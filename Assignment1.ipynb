{
  "nbformat": 4,
  "nbformat_minor": 0,
  "metadata": {
    "colab": {
      "name": "Assignment1.ipynb",
      "provenance": [],
      "collapsed_sections": []
    },
    "kernelspec": {
      "name": "python3",
      "display_name": "Python 3"
    }
  },
  "cells": [
    {
      "cell_type": "markdown",
      "metadata": {
        "id": "Su0zrHlrP6L6",
        "colab_type": "text"
      },
      "source": [
        "#Problem 1\n",
        "\n",
        "a) Write a function `letters2numbers` that converts a string to a list of numbers, where space = 0, a = 1, b = 2, and so on.\n",
        "\n",
        "Example:\n",
        "\n",
        "* `letters2numbers('a cat')` $\\rightarrow$ `[1,0,3,1,20]`"
      ]
    },
    {
      "cell_type": "code",
      "metadata": {
        "id": "vN4kxZn4RVCM",
        "colab_type": "code",
        "colab": {}
      },
      "source": [
        ""
      ],
      "execution_count": 0,
      "outputs": []
    },
    {
      "cell_type": "markdown",
      "metadata": {
        "id": "XbI2oHPuQtHy",
        "colab_type": "text"
      },
      "source": [
        "b) Write a function `numbers2letters` that converts a list of numbers to the corresponding string.\n",
        "\n",
        "Example:\n",
        "\n",
        "* `numbers2letters([1,0,3,1,20])` $\\rightarrow$ `'a cat'`"
      ]
    },
    {
      "cell_type": "code",
      "metadata": {
        "id": "YQrfk1rGQNBF",
        "colab_type": "code",
        "colab": {}
      },
      "source": [
        ""
      ],
      "execution_count": 0,
      "outputs": []
    },
    {
      "cell_type": "markdown",
      "metadata": {
        "id": "X7eG097UNyIJ",
        "colab_type": "text"
      },
      "source": [
        "#Problem 2\n",
        "\n",
        "Write a function `isSymmetric` that checks if a string reads the same forwards and backwards.\n",
        "\n",
        "Examples:\n",
        "* `isSymmetric('racecar')` $\\rightarrow$ `True`\n",
        "* `isSymmetric('batman')` $\\rightarrow$ `False`"
      ]
    },
    {
      "cell_type": "code",
      "metadata": {
        "id": "uyNA9o7PTaY2",
        "colab_type": "code",
        "colab": {}
      },
      "source": [
        ""
      ],
      "execution_count": 0,
      "outputs": []
    },
    {
      "cell_type": "markdown",
      "metadata": {
        "id": "bIakuz0rTBbs",
        "colab_type": "text"
      },
      "source": [
        "#Problem 3\n",
        "\n",
        "a) Write a function `convertToBase10` that converts a number from base-2 to base-10.\n",
        "\n",
        "Example:\n",
        "\n",
        "* `convertToBase10(10011)` $\\rightarrow$ `19` because $1 \\cdot 2^{4} + 0 \\cdot 2^3 + 0 \\cdot 2^2 + 1 \\cdot 2^1 + 1 \\cdot 2^0 = 19$"
      ]
    },
    {
      "cell_type": "markdown",
      "metadata": {
        "id": "wRdYmoMlZWv0",
        "colab_type": "text"
      },
      "source": [
        "b) Write a function `convertToBase2` that converts a number from base-10 to base-2.\n",
        "\n",
        "Example:\n",
        "\n",
        "* `convertToBase2(19)` $\\rightarrow$ `10011`"
      ]
    },
    {
      "cell_type": "code",
      "metadata": {
        "id": "RrPCAFXnNxHV",
        "colab_type": "code",
        "colab": {}
      },
      "source": [
        ""
      ],
      "execution_count": 0,
      "outputs": []
    },
    {
      "cell_type": "markdown",
      "metadata": {
        "id": "2UYoPWSwG2tv",
        "colab_type": "text"
      },
      "source": [
        "#Problem 4\n",
        "\n",
        "Write a function `isPrime` that checks if a number is prime. \n",
        "\n",
        "Examples:\n",
        "* `isPrime(59)` $\\rightarrow$ `True`\n",
        "* `isPrime(51)` $\\rightarrow$ `False`\n",
        "\n",
        "Hint: Check for divisibility within a for loop."
      ]
    },
    {
      "cell_type": "code",
      "metadata": {
        "id": "lK8KLNVQGrVW",
        "colab_type": "code",
        "colab": {}
      },
      "source": [
        ""
      ],
      "execution_count": 0,
      "outputs": []
    }
  ]
}