{
  "nbformat": 4,
  "nbformat_minor": 0,
  "metadata": {
    "colab": {
      "name": "Assignment13.ipynb",
      "provenance": [],
      "collapsed_sections": []
    },
    "kernelspec": {
      "name": "python3",
      "display_name": "Python 3"
    }
  },
  "cells": [
    {
      "cell_type": "markdown",
      "metadata": {
        "id": "PmLrcU5VxG6M",
        "colab_type": "text"
      },
      "source": [
        "# Problem 1 (Algorithms / Data Structures; 60 min)\n",
        "\n",
        "Extend your `BinaryTree` class.\n",
        "\n",
        "Get rid of the `Node` attributes `right` and `left`. Instead, store an attribute `children` that is a list of 0, 1, or 2 child nodes. **Make sure your `append` method still works.**\n",
        "\n",
        "For example, if you previously had a node with `Node.left = A` and `Node.right = B`, you should now have `Node.children = [A, B]`. Or, if you had `Node.left = None` and `Node.right = B`, then you should now have `Node.children = [B]`.\n"
      ]
    },
    {
      "cell_type": "code",
      "metadata": {
        "id": "b-IkQ5TaxF9B",
        "colab_type": "code",
        "colab": {}
      },
      "source": [
        "# This is the code we wrote during class. \n",
        "# You can use it as a starting point if you'd like.\n",
        "\n",
        "class BinaryTree:\n",
        "    def __init__(self, head_value):\n",
        "        self.root = Node(head_value)\n",
        "\n",
        "    def append(self, value):\n",
        "        current_node = self.root\n",
        "        \n",
        "        while current_node.children_are_filled():\n",
        "            current_node = current_node.get_next_node_across_layer()\n",
        "\n",
        "        # now we are at a current_node where some child is no longer filled\n",
        "        if current_node.left == None:\n",
        "            current_node.left = Node(value)\n",
        "            current_node.left.parent = current_node\n",
        "\n",
        "        elif current_node.right == None:\n",
        "            current_node.right = Node(value)\n",
        "            current_node.right.parent = current_node\n",
        "\n",
        "class Node:\n",
        "    def __init__(self, value):\n",
        "        self.data = value\n",
        "        self.left = None\n",
        "        self.right = None\n",
        "        self.parent = None\n",
        "\n",
        "    def children_are_filled(self):\n",
        "        left_is_filled = (self.left != None)\n",
        "        right_is_filled = (self.right != None)\n",
        "        return left_is_filled and right_is_filled\n",
        "\n",
        "    def get_next_node_across_layer(self):\n",
        "\n",
        "        if self.parent == None: # node is the root node\n",
        "            return self.left\n",
        "\n",
        "        elif self == self.parent.left: # node is a left node\n",
        "            return self.parent.right\n",
        "\n",
        "        elif self == self.parent.right: # node is a right node\n",
        "            return self.parent.get_next_node_across_layer().left\n",
        "        "
      ],
      "execution_count": null,
      "outputs": []
    },
    {
      "cell_type": "markdown",
      "metadata": {
        "id": "kD7F8fra0QN4",
        "colab_type": "text"
      },
      "source": [
        "# Problem 2 (Machine Learning; 60 min)\n",
        "\n",
        "a) Create the following normalization functions that replace the elements of an input list `x` with their normalized values.\n",
        "\n",
        "* `minmax_normalize` - linearly \"squashes\" the range of the data into the interval $[0,1].$\n",
        "```\n",
        ">>> minmax_normalize([6, 7, 8, 9])\n",
        "[0.0, 0.333333, 0.666667, 1.0]\n",
        ">>> minmax_normalize([4, 13, 3, 5, 5])\n",
        "[0.1, 1.0, 0.0, 0.2, 0.2]\n",
        "```\n",
        "\n",
        "* `percentile_normalize` - the percentile of an element is the portion of the data that is *less than* the element.\n",
        "```\n",
        ">>> percentile_normalize([6, 7, 8, 9])\n",
        "[0.0, 0.25, 0.5, 0.75]\n",
        ">>> percentile_normalize([4, 13, 3, 5, 5])\n",
        "[0.2, 0.8, 0.0, 0.4, 0.4]\n",
        "```\n",
        "\n",
        "* `zscore_normalize` - computes the number of standard deviations that an element is above (or below) the mean. For example, in the dataset `[1, 2, 3, 4, 5, 6, 7]` the standard deviation is `2`, so we have\n",
        "```\n",
        ">>> zscore_normalize([1, 2, 3, 4, 5, 6, 7])\n",
        "[-1.5, -1, -0.5, 0.0, 0.5, 1, 1.5]\n",
        "```"
      ]
    },
    {
      "cell_type": "code",
      "metadata": {
        "id": "RlBpAgU30Pm3",
        "colab_type": "code",
        "colab": {}
      },
      "source": [
        ""
      ],
      "execution_count": null,
      "outputs": []
    },
    {
      "cell_type": "markdown",
      "metadata": {
        "id": "SWkI3eZ83Q4x",
        "colab_type": "text"
      },
      "source": [
        "b) Create a the following distance functions that compute the distance between two input lists `x` and `y` (interpreted as vectors).\n",
        "\n",
        "* `euclidean_distance` - the square root of the sum of squared differences of the components: $$\\sqrt{ \\sum_{i=1}^n (x_i-y_i)^2 }$$\n",
        "\n",
        "* `hamming_distance` - the sum of absolute differences of the components: $$\\sum_{i=1}^n |x_i-y_i|$$\n",
        "\n",
        "* `cosine_distance` - the angle between the vectors (using the [dot product](https://en.wikipedia.org/wiki/Dot_product#:~:text=Algebraically%2C%20the%20dot%20product%20is,equivalent%20when%20using%20Cartesian%20coordinates.)): $$\\vec{x} \\cdot \\vec{y} = ||x|| \\cdot ||y|| \\cdot \\cos \\theta \\qquad \\Rightarrow \\qquad \\theta = \\arccos \\left( \\dfrac{\\vec{x} \\cdot \\vec{y}}{||x|| \\cdot ||y||} \\right)$$\n",
        "\n",
        "**Come up with tests to demonstrate that your function implements each method correctly.**"
      ]
    },
    {
      "cell_type": "code",
      "metadata": {
        "id": "svK_udcY558j",
        "colab_type": "code",
        "colab": {}
      },
      "source": [
        ""
      ],
      "execution_count": null,
      "outputs": []
    },
    {
      "cell_type": "markdown",
      "metadata": {
        "id": "W944NmkCSxDw",
        "colab_type": "text"
      },
      "source": [
        "# Problem 3 (Software Engineering; 60 min)\n",
        "\n",
        "Update your game per the following specifications:\n",
        "\n",
        "a) Change `attack_technology` and `defense_technology` to be a player attribute which is applied to all of the player's units during combat. (Previously, it was implemented as a unit attribute.)\n",
        "\n",
        "  * So, if a player has `attack_technology=1`, then *all* of its units get an attack boost of `+1` during battle.\n",
        "\n",
        "b) When moving your units randomly, make sure that they are given the option to stay put. Also, create a unit attribute `speed` that represents the number of spaces that a unit can move per turn. The speed values are listed in the table below.\n",
        "\n",
        "  * So, for a unit with `speed=2`, the unit might stay put, or it might move 1 unit left, or it might move 1 unit up and 1 unit right, or it might move 1 unit down and 1 more unit down, and so on.\n",
        "\n",
        "c) Create a unit attribute `armor` that represents the number of hits that the unit can withstand before being destroyed. Whenever a unit is hit during battle, its `armor` decreases by `1`. Once `armor` reaches `0`, the unit is destroyed. The initial armor values are listed in the table below.\n",
        "\n",
        "```\n",
        "Ship          | Armor | Speed |\n",
        "-------------------------------\n",
        "Scout         |   1   |   2   |\n",
        "Destroyer     |   1   |   1   |\n",
        "Cruiser       |   2   |   1   |\n",
        "Battlecruiser |   2   |   1   |\n",
        "Battleship    |   3   |   1   |\n",
        "Dreadnaught   |   3   |   1   |\n",
        "```"
      ]
    },
    {
      "cell_type": "code",
      "metadata": {
        "id": "YILpYRcttI3g",
        "colab_type": "code",
        "colab": {}
      },
      "source": [
        ""
      ],
      "execution_count": null,
      "outputs": []
    }
  ]
}