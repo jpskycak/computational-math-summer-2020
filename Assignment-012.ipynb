{
  "nbformat": 4,
  "nbformat_minor": 0,
  "metadata": {
    "colab": {
      "name": "Assignment12.ipynb",
      "provenance": [],
      "collapsed_sections": []
    },
    "kernelspec": {
      "name": "python3",
      "display_name": "Python 3"
    }
  },
  "cells": [
    {
      "cell_type": "markdown",
      "metadata": {
        "id": "0Tf2rL19Dp5h",
        "colab_type": "text"
      },
      "source": [
        "# Problem 1 (30 min)\n",
        "\n",
        "a) Write a function `count_compression(string)` that takes a string and compresses it into a list of tuples, where each tuple indicates the count of times a particular symbol was repeated.\n",
        "\n",
        "```\n",
        ">>> count_compression('aaabbcaaaa')\n",
        "[('a',3), ('b',2), ('c',1), ('a',4)]\n",
        ">>> count_compression('22344444')\n",
        "[(2,2), (3,1), (4,5)]\n",
        "```\n"
      ]
    },
    {
      "cell_type": "code",
      "metadata": {
        "id": "tAMLzZaJIwVz",
        "colab_type": "code",
        "colab": {}
      },
      "source": [
        ""
      ],
      "execution_count": null,
      "outputs": []
    },
    {
      "cell_type": "markdown",
      "metadata": {
        "id": "AbwKoIZTkGUb",
        "colab_type": "text"
      },
      "source": [
        "b) Write a function `count_decompression(compressed_string)` that decompresses a compressed string to return the original result.\n",
        "\n",
        "```\n",
        ">>> count_decompression([('a',3), ('b',2), ('c',1), ('a',4)])\n",
        "'aaabbcaaaa'\n",
        ">>> count_decompression([(2,2), (3,1), (4,5)])\n",
        "'22344444'\n",
        "```\n",
        "\n"
      ]
    },
    {
      "cell_type": "code",
      "metadata": {
        "id": "vm6m33pvIyKp",
        "colab_type": "code",
        "colab": {}
      },
      "source": [
        ""
      ],
      "execution_count": null,
      "outputs": []
    },
    {
      "cell_type": "markdown",
      "metadata": {
        "id": "72ijCU82oTV6",
        "colab_type": "text"
      },
      "source": [
        "# Problem 2 (45 min)\n",
        "\n",
        "Write a class `BinaryTree` which is similar to the doubly linked list, but with the following exceptions:\n",
        "* the `head` node is now called the `root` node\n",
        "* every node has two attributes `left` and `right` instead of just a single attribute `next`\n",
        "\n",
        "The only method you need to implement (as of now) is `append`.\n",
        "\n",
        "```\n",
        ">>> tree = BinaryTree(0)\n",
        ">>> tree.append(1)\n",
        ">>> tree.append(2)\n",
        ">>> tree.append(3)\n",
        "Note: at this point, the tree's internal state should look as follows\n",
        "    0\n",
        "   / \\\n",
        "  1   2\n",
        " /\n",
        "3\n",
        ">>> tree.append(4)\n",
        ">>> tree.append(5)\n",
        ">>> tree.append(6)\n",
        "Note: at this point, the tree's internal state should look as follows\n",
        "    0\n",
        "   / \\\n",
        "  1   2\n",
        " /|   |\\\n",
        "3 4   5 6\n",
        "```\n",
        "\n"
      ]
    },
    {
      "cell_type": "markdown",
      "metadata": {
        "id": "W944NmkCSxDw",
        "colab_type": "text"
      },
      "source": [
        "# Problem 3 (60 min)\n",
        "\n",
        "Update your game system so that on each turn, each player's construction points (CP) are increased by 10, and they purchase \"attack technology\" or \"defense technology\" for a ship (chosen at random) whenever possible.\n",
        "\n",
        "\"Attack technology\" and \"defense technology\" are upgrades to a unit's baseline attack and defense stats during battle. For example, if a unit's baseline attack is $2,$ and it has an attack technology of $3,$ then in battle it is treated as having an attack level of $2+3=5.$\n",
        "\n",
        "The costs for technology upgrades are as follows:\n",
        "\n",
        "```\n",
        "Attack Technology | CP Cost |\n",
        "-----------------------------\n",
        "       0          |   n/a   | (all ships start with attack technology 0)\n",
        "       1          |   20    |\n",
        "       2          |   30    |\n",
        "       3          |   40    |\n",
        "```\n",
        "\n",
        "```\n",
        "Defense Technology | CP Cost |\n",
        "------------------------------\n",
        "       0           |   n/a   | (all ships start with defense technology 0)\n",
        "       1           |   20    |\n",
        "       2           |   30    |\n",
        "       3           |   40    |\n",
        "```\n",
        "\n",
        "Note: the CP Cost tells how many *more* CPs are needed to get to the next attack technology. So, if a unit was at attack technology 0, then to upgrade it to attack technology 2, you would have pay 50 CPs."
      ]
    },
    {
      "cell_type": "code",
      "metadata": {
        "id": "ksFuGKg1kFC-",
        "colab_type": "code",
        "colab": {}
      },
      "source": [
        ""
      ],
      "execution_count": null,
      "outputs": []
    },
    {
      "cell_type": "markdown",
      "metadata": {
        "id": "hcueIAWwcKhz",
        "colab_type": "text"
      },
      "source": [
        "# Problem 4 (60 min)\n",
        "\n",
        "a) Write a recursive function `gradient_descent(f,x0,alpha=0.01,delta=0.001,precision=0.0001)` that uses *gradient descent* to estimate the minimum of $f(x),$ given the initial guess $x=x_0.$ [Here's a visualization of how it works.](https://www.youtube.com/watch?v=ClotAJHZ3oE)\n",
        "\n",
        "The *gradient descent* algorithm is\n",
        "\n",
        "$$x_{n+1} = x_n - \\alpha f'(x_n),$$\n",
        "\n",
        "where $\\alpha$ (alpha) is a constant called the *learning rate*.\n",
        "\n",
        "Note that you will have to write a helper function to estimate $f'(x_n)$ using a difference quotient,\n",
        "\n",
        "$$f'(x_n) \\approx \\dfrac{f(x_n+\\delta) - f(x_n-\\delta)}{2\\delta},$$\n",
        "\n",
        "where $\\delta$ (delta) is chosen as a very small constant. (For our cases, $\\delta = 0.001$ should be sufficient.)\n",
        "\n",
        "The function should recurse until successive guesses are within `precision` amount of each other."
      ]
    },
    {
      "cell_type": "code",
      "metadata": {
        "id": "3QPcSzhRQAbo",
        "colab_type": "code",
        "colab": {}
      },
      "source": [
        ""
      ],
      "execution_count": null,
      "outputs": []
    },
    {
      "cell_type": "markdown",
      "metadata": {
        "id": "JlwPmHViQAlU",
        "colab_type": "text"
      },
      "source": [
        "b) Test `gradient_descent` on a dummy example: estimate the minimum value of\n",
        "\n",
        "$$f(x)=x^2+2x+1$$\n",
        "\n",
        "using the initial guess $x_0 = 0.$ (Note: do **not** work out the derivative by hand! You should estimate it numerically.)"
      ]
    },
    {
      "cell_type": "code",
      "metadata": {
        "id": "-4qlLr6JQMIe",
        "colab_type": "code",
        "colab": {}
      },
      "source": [
        ""
      ],
      "execution_count": null,
      "outputs": []
    },
    {
      "cell_type": "markdown",
      "metadata": {
        "id": "ainnn3m2PVzx",
        "colab_type": "text"
      },
      "source": [
        "c) Use `gradient_descent` to estimate the minimum value of\n",
        "\n",
        "$$f(x)=\\frac{x^{2}+\\cos\\left(x\\right)}{e^{\\sin\\left(x\\right)}}$$\n",
        "\n",
        "using the initial guess $x_0 = 0.$ (Note: do **not** work out the derivative by hand! You should estimate it numerically.)"
      ]
    },
    {
      "cell_type": "code",
      "metadata": {
        "id": "8_RFIlUq58iZ",
        "colab_type": "code",
        "colab": {}
      },
      "source": [
        ""
      ],
      "execution_count": null,
      "outputs": []
    }
  ]
}