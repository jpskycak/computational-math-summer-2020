{
  "nbformat": 4,
  "nbformat_minor": 0,
  "metadata": {
    "colab": {
      "name": " Assignment2.ipynb",
      "provenance": [],
      "collapsed_sections": []
    },
    "kernelspec": {
      "name": "python3",
      "display_name": "Python 3"
    }
  },
  "cells": [
    {
      "cell_type": "markdown",
      "metadata": {
        "id": "Su0zrHlrP6L6",
        "colab_type": "text"
      },
      "source": [
        "#Problem 1\n",
        "\n",
        "a) Write a function `intersection` that computes the intersection of two tuples.\n",
        "\n",
        "Example:\n",
        "\n",
        "* `intersection( (1,2,'a','b'), (2,3,'a') )` $\\rightarrow$ `(2,'a')`"
      ]
    },
    {
      "cell_type": "code",
      "metadata": {
        "id": "vN4kxZn4RVCM",
        "colab_type": "code",
        "colab": {}
      },
      "source": [
        ""
      ],
      "execution_count": 0,
      "outputs": []
    },
    {
      "cell_type": "markdown",
      "metadata": {
        "id": "XbI2oHPuQtHy",
        "colab_type": "text"
      },
      "source": [
        "b) Write a function `union` that computes the union of two tuples.\n",
        "\n",
        "Example:\n",
        "\n",
        "* `union( (1,2,'a','b'), (2,3,'a') )` $\\rightarrow$ `(1,2,3,'a','b')`"
      ]
    },
    {
      "cell_type": "code",
      "metadata": {
        "id": "YQrfk1rGQNBF",
        "colab_type": "code",
        "colab": {}
      },
      "source": [
        ""
      ],
      "execution_count": 0,
      "outputs": []
    },
    {
      "cell_type": "markdown",
      "metadata": {
        "id": "X7eG097UNyIJ",
        "colab_type": "text"
      },
      "source": [
        "#Problem 2\n",
        "\n",
        "Write a function `countCharacters` that counts the number of each character in a string and returns the counts in a dictionary. Lowercase and uppercase letters should not be treated differently.\n",
        "\n",
        "Example:\n",
        "* `countCharacters('A cat!!!')` $\\rightarrow$ `{'a': 2, 'c': 1, 't': 1, ' ': 1, '!': 3}`"
      ]
    },
    {
      "cell_type": "code",
      "metadata": {
        "id": "uyNA9o7PTaY2",
        "colab_type": "code",
        "colab": {}
      },
      "source": [
        ""
      ],
      "execution_count": 0,
      "outputs": []
    },
    {
      "cell_type": "markdown",
      "metadata": {
        "id": "bIakuz0rTBbs",
        "colab_type": "text"
      },
      "source": [
        "#Problem 3\n",
        "\n",
        "Create a `Matrix` class with the methods `show`, `add`, `subtract`, `scale`, and `multiply` for $2 \\times 2$ matrices.\n",
        "\n",
        "The input to a `Matrix` object is a multi-dimensional array (i.e. an array of arrays).\n",
        "\n",
        "Examples:\n",
        "\n",
        "<br>\n",
        "\n",
        "`A = Matrix([[1,3],[2,4]])`\n",
        "\n",
        "`A.show()`\n",
        "\n",
        "`[[ 1, 3 ],`\n",
        "\n",
        "&nbsp;&nbsp;`[ 2, 4 ]]`\n",
        "\n",
        "<br>\n",
        "\n",
        "`B = Matrix([[1,0],[2,-1]])`\n",
        "\n",
        "`C = A.add(B)`\n",
        "\n",
        "`C.show()`\n",
        "\n",
        "`[[ 2, 3 ],`\n",
        "\n",
        "&nbsp;&nbsp;`[ 4, 3 ]]`\n",
        "\n",
        "<br>\n",
        "\n",
        "`D = A.subtract(B)`\n",
        "\n",
        "`D.show()`\n",
        "\n",
        "`[[ 0, 3 ],`\n",
        "\n",
        "&nbsp;&nbsp;`[ 0, 5 ]]`\n",
        "\n",
        "<br>\n",
        "\n",
        "`E = A.scale(2)`\n",
        "\n",
        "`E.show()`\n",
        "\n",
        "`[[ 2, 6 ],`\n",
        "\n",
        "&nbsp;&nbsp;`[ 4, 8 ]]`\n",
        "\n",
        "<br>\n",
        "\n",
        "`F = A.multiply(B)`\n",
        "\n",
        "`E.show()`\n",
        "\n",
        "`[[ 7, -3 ],`\n",
        "\n",
        "&nbsp;&nbsp;`[ 10, -4 ]]`\n"
      ]
    },
    {
      "cell_type": "code",
      "metadata": {
        "id": "RrPCAFXnNxHV",
        "colab_type": "code",
        "colab": {}
      },
      "source": [
        ""
      ],
      "execution_count": 0,
      "outputs": []
    }
  ]
}